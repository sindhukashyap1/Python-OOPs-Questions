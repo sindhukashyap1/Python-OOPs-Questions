{
  "nbformat": 4,
  "nbformat_minor": 0,
  "metadata": {
    "colab": {
      "provenance": []
    },
    "kernelspec": {
      "name": "python3",
      "display_name": "Python 3"
    },
    "language_info": {
      "name": "python"
    }
  },
  "cells": [
    {
      "cell_type": "markdown",
      "source": [
        "Q1. What is Object-Oriented Programming (OOP)?\n",
        "OOP is a programming paradigm that organizes code into objects, which combine data\n",
        "(attributes) and behavior (methods). It improves modularity, reusability, and readability.\n",
        "\n",
        "Q2. What is a class in OOP?\n",
        "A class is a blueprint for creating objects. It defines the structure (attributes) and\n",
        "behavior (methods) that objects of that type will have.\n",
        "Example:\n",
        "class Dog:\n",
        "def __init__(self, name):\n",
        "self.name = name\n",
        "def bark(self):\n",
        "print(f\"{self.name} says Woof!\")\n",
        "\n",
        "Q3. What is an object in OOP?\n",
        "An object is an instance of a class. It represents a real-world entity created from the\n",
        "class blueprint.\n",
        "\n",
        "Q4. What is the di?erence between abstraction and encapsulation?\n",
        "• Abstraction hides implementation details and exposes only necessary\n",
        "functionality.\n",
        "• Encapsulation bundles data and methods inside a class and restricts direct\n",
        "access to some attributes.\n",
        "\n",
        "Q5. What are dunder methods in Python?\n",
        "Dunder (double underscore) methods are special methods in Python that start and end\n",
        "with __. They define object behavior, like __init__, __str__, and __len__.\n",
        "\n",
        "Q6. Explain the concept of inheritance in OOP.\n",
        "Inheritance allows a class (child) to acquire properties and methods of another class\n",
        "(parent). It promotes code reuse.\n",
        "Example:\n",
        "\n",
        "class Animal:\n",
        "def sound(self):\n",
        "print(\"Animal makes a sound\")\n",
        "\n",
        "class Dog(Animal):\n",
        "def sound(self):\n",
        "print(\"Dog barks\")\n",
        "\n",
        "Q7. What is polymorphism in OOP?\n",
        "Polymorphism allows diQerent classes to define methods with the same name but\n",
        "diQerent behavior. It enables flexibility and code reuse.\n",
        "\n",
        "Q8. How is encapsulation achieved in Python?\n",
        "Encapsulation is achieved using private (_ or __) attributes and methods, restricting\n",
        "direct access from outside the class.\n",
        "\n",
        "Q9. What is a constructor in Python?\n",
        "A constructor is a special method __init__ used to initialize object attributes when an\n",
        "object is created.\n",
        "\n",
        "Q10. What are class and static methods in Python?\n",
        "• Class methods use @classmethod and receive cls as the first argument.\n",
        "• Static methods use @staticmethod and do not take self or cls.\n",
        "\n",
        "Q11. What is method overloading in Python?\n",
        "Python does not support traditional method overloading. Instead, it is simulated by\n",
        "using default arguments or *args and **kwargs.\n",
        "\n",
        "Q12. What is method overriding in OOP?\n",
        "Method overriding occurs when a child class defines a method with the same name as\n",
        "its parent, replacing the parent’s behavior.\n",
        "\n",
        "Q13. What is a property decorator in Python?\n",
        "The @property decorator is used to define getter methods, allowing attribute access like\n",
        "properties without calling them explicitly.\n",
        "\n",
        "Q14. Why is polymorphism important in OOP?\n",
        "Polymorphism is important because it allows code to work with objects of diQerent\n",
        "types using a common interface, increasing flexibility.\n",
        "\n",
        "Q15. What is an abstract class in Python?\n",
        "An abstract class contains abstract methods (declared but not implemented). It is\n",
        "defined using the abc module and cannot be instantiated.\n",
        "\n",
        "Q16. What are the advantages of OOP?\n",
        "• Code reusability through inheritance\n",
        "• Better organization with classes and objects\n",
        "• Encapsulation for security\n",
        "• Easier to scale and maintain\n",
        "\n",
        "Q17. What is the di?erence between a class variable and an instance variable?\n",
        "• Class variable: Shared by all objects of the class.\n",
        "• Instance variable: Unique to each object.\n",
        "\n",
        "Q18. What is multiple inheritance in Python?\n",
        "Multiple inheritance allows a class to inherit from more than one parent class.\n",
        "\n",
        "Q19. Explain the purpose of __str__ and __repr__ methods in Python.\n",
        "• __str__: Returns a human-readable string for printing.\n",
        "• __repr__: Returns an unambiguous representation useful for debugging.\n",
        "\n",
        "Q20. What is the significance of the super() function in Python?\n",
        "super() is used to call methods of the parent class, often to initialize parent attributes\n",
        "inside a child class.\n",
        "\n",
        "Q21. What is the significance of the __del__ method in Python?\n",
        "The __del__ method is a destructor that is called when an object is deleted or goes out\n",
        "of scope.\n",
        "\n",
        "Q22. What is the di?erence between @staticmethod and @classmethod in Python?\n",
        "• @staticmethod: No access to self or cls.\n",
        "• @classmethod: Works with the class itself using cls.\n",
        "\n",
        "Q23. How does polymorphism work in Python with inheritance?\n",
        "Polymorphism works when child classes override parent methods, but objects can still\n",
        "be used interchangeably.\n",
        "\n",
        "Q24. What is method chaining in Python OOP?\n",
        "Method chaining is calling multiple methods in a single line because each method\n",
        "returns self.\n",
        "Example:\n",
        "class Person:\n",
        "def greet(self):\n",
        "print(\"Hello\")\n",
        "return self\n",
        "def bye(self):\n",
        "print(\"Bye\")\n",
        "return self\n",
        "\n",
        "p = Person()\n",
        "p.greet().bye()\n",
        "\n",
        "Q25. What is the purpose of the __call__ method in Python?\n",
        "The __call__ method makes an object callable like a function.\n",
        "Example:\n",
        "class Multiplier:\n",
        "def __init__(self, factor):\n",
        "self.factor = factor\n",
        "def __call__(self, x):\n",
        "return x * self.factor\n",
        "\n",
        "m = Multiplier(3)\n",
        "print(m(5)) # 15"
      ],
      "metadata": {
        "id": "7Fk9pe6MMHJ5"
      }
    },
    {
      "cell_type": "code",
      "execution_count": null,
      "metadata": {
        "id": "PlfkcF9j0CGj",
        "colab": {
          "base_uri": "https://localhost:8080/"
        },
        "outputId": "e210f501-b0b5-4987-990b-3768aecd7859"
      },
      "outputs": [
        {
          "output_type": "stream",
          "name": "stdout",
          "text": [
            "Bark!\n"
          ]
        }
      ],
      "source": [
        "# Q1. Create a parent class Animal with a method speak() that prints a generic message.\n",
        "# Create a child class Dog that overrides the speak() method to print \"Bark!\".\n",
        "class Animal:\n",
        "    def speak(self):\n",
        "        print(\"This is an animal sound.\")\n",
        "\n",
        "class Dog(Animal):\n",
        "    def speak(self):\n",
        "        print(\"Bark!\")\n",
        "\n",
        "dog = Dog()\n",
        "dog.speak()"
      ]
    },
    {
      "cell_type": "code",
      "source": [
        "# Q2. Write a program to create an abstract class Shape with a method area().\n",
        "# Derive classes Circle and Rectangle from it and implement the area() method in both.\n",
        "from abc import ABC, abstractmethod\n",
        "import math\n",
        "\n",
        "class Shape(ABC):\n",
        "    @abstractmethod\n",
        "    def area(self):\n",
        "        pass\n",
        "\n",
        "class Circle(Shape):\n",
        "    def __init__(self, radius):\n",
        "        self.radius = radius\n",
        "    def area(self):\n",
        "        return math.pi * self.radius * self.radius\n",
        "\n",
        "class Rectangle(Shape):\n",
        "    def __init__(self, length, width):\n",
        "        self.length = length\n",
        "        self.width = width\n",
        "    def area(self):\n",
        "        return self.length * self.width\n",
        "\n",
        "c = Circle(5)\n",
        "r = Rectangle(4, 6)\n",
        "print(c.area())\n",
        "print(r.area())\n"
      ],
      "metadata": {
        "colab": {
          "base_uri": "https://localhost:8080/"
        },
        "id": "b0_cNrS20t6y",
        "outputId": "aa52ca25-7a86-4af2-b9ec-d3999e82ba19"
      },
      "execution_count": null,
      "outputs": [
        {
          "output_type": "stream",
          "name": "stdout",
          "text": [
            "78.53981633974483\n",
            "24\n"
          ]
        }
      ]
    },
    {
      "cell_type": "code",
      "source": [
        "# Q3. Implement a multi-level inheritance scenario where a class Vehicle has an attribute type.\n",
        "# Derive a class Car and further derive a class ElectricCar that adds a battery attribute.\n",
        "class Vehicle:\n",
        "    def __init__(self, type):\n",
        "        self.type = type\n",
        "\n",
        "class Car(Vehicle):\n",
        "    def __init__(self, type, brand):\n",
        "        super().__init__(type)\n",
        "        self.brand = brand\n",
        "\n",
        "class ElectricCar(Car):\n",
        "    def __init__(self, type, brand, battery):\n",
        "        super().__init__(type, brand)\n",
        "        self.battery = battery\n",
        "\n",
        "e = ElectricCar(\"Four-wheeler\", \"Tesla\", \"100 kWh\")\n",
        "print(e.type, e.brand, e.battery)\n"
      ],
      "metadata": {
        "colab": {
          "base_uri": "https://localhost:8080/"
        },
        "id": "j27fgpuq0uFJ",
        "outputId": "c53bac1c-7176-419d-b634-113b5b649d68"
      },
      "execution_count": null,
      "outputs": [
        {
          "output_type": "stream",
          "name": "stdout",
          "text": [
            "Four-wheeler Tesla 100 kWh\n"
          ]
        }
      ]
    },
    {
      "cell_type": "code",
      "source": [
        "# Q4. Demonstrate polymorphism by creating a base class Bird with a method fly().\n",
        "# Create two derived classes Sparrow and Penguin that override the fly() method.\n",
        "class Bird:\n",
        "    def fly(self):\n",
        "        print(\"Bird is flying.\")\n",
        "\n",
        "class Sparrow(Bird):\n",
        "    def fly(self):\n",
        "        print(\"Sparrow can fly high.\")\n",
        "\n",
        "class Penguin(Bird):\n",
        "    def fly(self):\n",
        "        print(\"Penguin cannot fly.\")\n",
        "\n",
        "birds = [Sparrow(), Penguin()]\n",
        "for b in birds:\n",
        "    b.fly()\n"
      ],
      "metadata": {
        "colab": {
          "base_uri": "https://localhost:8080/"
        },
        "id": "Pd1d59R80uNP",
        "outputId": "92bc0b90-314d-46fe-bc93-c8f26c522c9b"
      },
      "execution_count": null,
      "outputs": [
        {
          "output_type": "stream",
          "name": "stdout",
          "text": [
            "Sparrow can fly high.\n",
            "Penguin cannot fly.\n"
          ]
        }
      ]
    },
    {
      "cell_type": "code",
      "source": [
        "# Q5. Write a program to demonstrate encapsulation by creating a class BankAccount\n",
        "# with private attributes balance and methods to deposit, withdraw, and check balance.\n",
        "class BankAccount:\n",
        "    def __init__(self, balance=0):\n",
        "        self.__balance = balance\n",
        "\n",
        "    def deposit(self, amount):\n",
        "        self.__balance += amount\n",
        "\n",
        "    def withdraw(self, amount):\n",
        "        if amount <= self.__balance:\n",
        "            self.__balance -= amount\n",
        "        else:\n",
        "            print(\"Insufficient balance\")\n",
        "\n",
        "    def check_balance(self):\n",
        "        return self.__balance\n",
        "\n",
        "account = BankAccount()\n",
        "account.deposit(1000)\n",
        "account.withdraw(300)\n",
        "print(account.check_balance())\n"
      ],
      "metadata": {
        "colab": {
          "base_uri": "https://localhost:8080/"
        },
        "id": "_fN-vt-E0uVT",
        "outputId": "3dc89699-b739-43ac-c3b6-7b71a4ff0c85"
      },
      "execution_count": null,
      "outputs": [
        {
          "output_type": "stream",
          "name": "stdout",
          "text": [
            "700\n"
          ]
        }
      ]
    },
    {
      "cell_type": "code",
      "source": [
        "# Q6. Demonstrate runtime polymorphism using a method play() in a base class Instrument.\n",
        "# Derive classes Guitar and Piano that implement their own version of play().\n",
        "class Instrument:\n",
        "    def play(self):\n",
        "        print(\"Instrument is playing.\")\n",
        "\n",
        "class Guitar(Instrument):\n",
        "    def play(self):\n",
        "        print(\"Guitar is strumming.\")\n",
        "\n",
        "class Piano(Instrument):\n",
        "    def play(self):\n",
        "        print(\"Piano is playing.\")\n",
        "\n",
        "instruments = [Guitar(), Piano()]\n",
        "for i in instruments:\n",
        "    i.play()\n"
      ],
      "metadata": {
        "colab": {
          "base_uri": "https://localhost:8080/"
        },
        "id": "fImoRKPY0udm",
        "outputId": "71389caf-d921-4493-fb92-f509bb555468"
      },
      "execution_count": null,
      "outputs": [
        {
          "output_type": "stream",
          "name": "stdout",
          "text": [
            "Guitar is strumming.\n",
            "Piano is playing.\n"
          ]
        }
      ]
    },
    {
      "cell_type": "code",
      "source": [
        "# Q7. Create a class MathOperations with a class method add_numbers() to add two numbers\n",
        "# and a static method subtract_numbers() to subtract two numbers.\n",
        "class MathOperations:\n",
        "    @classmethod\n",
        "    def add_numbers(cls, a, b):\n",
        "        return a + b\n",
        "\n",
        "    @staticmethod\n",
        "    def subtract_numbers(a, b):\n",
        "        return a - b\n",
        "\n",
        "print(MathOperations.add_numbers(5, 3))\n",
        "print(MathOperations.subtract_numbers(10, 4))\n"
      ],
      "metadata": {
        "colab": {
          "base_uri": "https://localhost:8080/"
        },
        "id": "WCAGtwIo0uk-",
        "outputId": "e65f2038-472d-429c-a349-3e682dacd188"
      },
      "execution_count": null,
      "outputs": [
        {
          "output_type": "stream",
          "name": "stdout",
          "text": [
            "8\n",
            "6\n"
          ]
        }
      ]
    },
    {
      "cell_type": "code",
      "source": [
        "# Q8. Implement a class Person with a class method to count the total number of persons created.\n",
        "class Person:\n",
        "    count = 0\n",
        "    def __init__(self, name):\n",
        "        self.name = name\n",
        "        Person.count += 1\n",
        "\n",
        "    @classmethod\n",
        "    def total_persons(cls):\n",
        "        return cls.count\n",
        "\n",
        "p1 = Person(\"Alice\")\n",
        "p2 = Person(\"Bob\")\n",
        "print(Person.total_persons())\n"
      ],
      "metadata": {
        "colab": {
          "base_uri": "https://localhost:8080/"
        },
        "id": "7Gmo4Gti0utG",
        "outputId": "a80dff1d-abbe-4163-8a87-98e5c4c7d1ef"
      },
      "execution_count": null,
      "outputs": [
        {
          "output_type": "stream",
          "name": "stdout",
          "text": [
            "2\n"
          ]
        }
      ]
    },
    {
      "cell_type": "code",
      "source": [
        "# Q9. Write a class Fraction with attributes numerator and denominator.\n",
        "# Override the str method to display the fraction as \"numerator/denominator\".\n",
        "class Fraction:\n",
        "    def __init__(self, numerator, denominator):\n",
        "        self.numerator = numerator\n",
        "        self.denominator = denominator\n",
        "\n",
        "    def __str__(self):\n",
        "        return f\"{self.numerator}/{self.denominator}\"\n",
        "\n",
        "f = Fraction(3, 4)\n",
        "print(f)\n"
      ],
      "metadata": {
        "colab": {
          "base_uri": "https://localhost:8080/"
        },
        "id": "rKAlNU4F0u0v",
        "outputId": "c98dc519-40eb-4609-97c6-15862c0f9798"
      },
      "execution_count": null,
      "outputs": [
        {
          "output_type": "stream",
          "name": "stdout",
          "text": [
            "3/4\n"
          ]
        }
      ]
    },
    {
      "cell_type": "code",
      "source": [
        "# Q10. Demonstrate operator overloading by creating a class Vector\n",
        "# and overriding the add method to add two vectors.\n",
        "class Vector:\n",
        "    def __init__(self, x, y):\n",
        "        self.x = x\n",
        "        self.y = y\n",
        "\n",
        "    def __add__(self, other):\n",
        "        return Vector(self.x + other.x, self.y + other.y)\n",
        "\n",
        "    def __str__(self):\n",
        "        return f\"({self.x}, {self.y})\"\n",
        "\n",
        "v1 = Vector(2, 3)\n",
        "v2 = Vector(4, 5)\n",
        "print(v1 + v2)\n"
      ],
      "metadata": {
        "colab": {
          "base_uri": "https://localhost:8080/"
        },
        "id": "79mjrR250u83",
        "outputId": "2c222414-9b1c-4691-c9ae-f0175dc6271d"
      },
      "execution_count": null,
      "outputs": [
        {
          "output_type": "stream",
          "name": "stdout",
          "text": [
            "(6, 8)\n"
          ]
        }
      ]
    },
    {
      "cell_type": "code",
      "source": [
        "# Q11. Create a class Person with attributes name and age.\n",
        "# Add a method greet() that prints \"Hello, my name is {name} and I am {age} years old.\"\n",
        "class Person:\n",
        "    def __init__(self, name, age):\n",
        "        self.name = name\n",
        "        self.age = age\n",
        "\n",
        "    def greet(self):\n",
        "        print(f\"Hello, my name is {self.name} and I am {self.age} years old.\")\n",
        "\n",
        "p = Person(\"John\", 25)\n",
        "p.greet()\n"
      ],
      "metadata": {
        "colab": {
          "base_uri": "https://localhost:8080/"
        },
        "id": "LDcn72ZH0vE-",
        "outputId": "20718f7e-50ab-4b30-cb55-d66feffa3e0d"
      },
      "execution_count": null,
      "outputs": [
        {
          "output_type": "stream",
          "name": "stdout",
          "text": [
            "Hello, my name is John and I am 25 years old.\n"
          ]
        }
      ]
    },
    {
      "cell_type": "code",
      "source": [
        "# Q12. Implement a class Student with attributes name and grades.\n",
        "# Create a method average_grade() to compute the average of the grades.\n",
        "class Student:\n",
        "    def __init__(self, name, grades):\n",
        "        self.name = name\n",
        "        self.grades = grades\n",
        "\n",
        "    def average_grade(self):\n",
        "        return sum(self.grades) / len(self.grades)\n",
        "\n",
        "s = Student(\"Alice\", [85, 90, 78])\n",
        "print(s.average_grade())\n"
      ],
      "metadata": {
        "colab": {
          "base_uri": "https://localhost:8080/"
        },
        "id": "cAxzV9C_0vMr",
        "outputId": "3b498ca2-f5bf-47b8-a532-b96825a3bb28"
      },
      "execution_count": null,
      "outputs": [
        {
          "output_type": "stream",
          "name": "stdout",
          "text": [
            "84.33333333333333\n"
          ]
        }
      ]
    },
    {
      "cell_type": "code",
      "source": [
        "# Q13. Create a class Rectangle with methods set_dimensions() to set the dimensions and area() to calculate the area.\n",
        "class Rectangle:\n",
        "    def set_dimensions(self, length, width):\n",
        "        self.length = length\n",
        "        self.width = width\n",
        "\n",
        "    def area(self):\n",
        "        return self.length * self.width\n",
        "\n",
        "r = Rectangle()\n",
        "r.set_dimensions(5, 3)\n",
        "print(r.area())\n"
      ],
      "metadata": {
        "colab": {
          "base_uri": "https://localhost:8080/"
        },
        "id": "wqOqsL820vUc",
        "outputId": "1ef90fb5-66a9-4d5f-b723-ccabe0f5eb06"
      },
      "execution_count": null,
      "outputs": [
        {
          "output_type": "stream",
          "name": "stdout",
          "text": [
            "15\n"
          ]
        }
      ]
    },
    {
      "cell_type": "code",
      "source": [
        "# Q14. Create a class Employee with a method calculate_salary() that computes the salary\n",
        "# based on hours worked and hourly rate. Create a derived class Manager that adds a bonus to the salary.\n",
        "class Employee:\n",
        "    def calculate_salary(self, hours, rate):\n",
        "        return hours * rate\n",
        "\n",
        "class Manager(Employee):\n",
        "    def calculate_salary(self, hours, rate, bonus):\n",
        "        return super().calculate_salary(hours, rate) + bonus\n",
        "\n",
        "m = Manager()\n",
        "print(m.calculate_salary(40, 50, 500))\n"
      ],
      "metadata": {
        "colab": {
          "base_uri": "https://localhost:8080/"
        },
        "id": "7lJITDp20vbD",
        "outputId": "900718d3-bd92-4adc-cf47-b311e0d362c1"
      },
      "execution_count": null,
      "outputs": [
        {
          "output_type": "stream",
          "name": "stdout",
          "text": [
            "2500\n"
          ]
        }
      ]
    },
    {
      "cell_type": "code",
      "source": [
        "# Q15. Create a class Product with attributes name, price, and quantity.\n",
        "# Implement a method total_price() that calculates the total price of the product.\n",
        "class Product:\n",
        "    def __init__(self, name, price, quantity):\n",
        "        self.name = name\n",
        "        self.price = price\n",
        "        self.quantity = quantity\n",
        "\n",
        "    def total_price(self):\n",
        "        return self.price * self.quantity\n",
        "\n",
        "p = Product(\"Laptop\", 50000, 2)\n",
        "print(p.total_price())\n"
      ],
      "metadata": {
        "colab": {
          "base_uri": "https://localhost:8080/"
        },
        "id": "DtOJoN7X0vjN",
        "outputId": "bbc5feea-db18-4dd1-d7c0-e0b6d5faa233"
      },
      "execution_count": null,
      "outputs": [
        {
          "output_type": "stream",
          "name": "stdout",
          "text": [
            "100000\n"
          ]
        }
      ]
    },
    {
      "cell_type": "code",
      "source": [
        "# Q16. Create a class Animal with an abstract method sound().\n",
        "# Create two derived classes Cow and Sheep that implement the sound() method.\n",
        "from abc import ABC, abstractmethod\n",
        "\n",
        "class Animal(ABC):\n",
        "    @abstractmethod\n",
        "    def sound(self):\n",
        "        pass\n",
        "\n",
        "class Cow(Animal):\n",
        "    def sound(self):\n",
        "        print(\"Moo\")\n",
        "\n",
        "class Sheep(Animal):\n",
        "    def sound(self):\n",
        "        print(\"Baa\")\n",
        "\n",
        "c = Cow()\n",
        "s = Sheep()\n",
        "c.sound()\n",
        "s.sound()\n"
      ],
      "metadata": {
        "colab": {
          "base_uri": "https://localhost:8080/"
        },
        "id": "fAlCf7JW0vqk",
        "outputId": "a3b567a3-c6c8-4c0c-fc00-435e98c91df4"
      },
      "execution_count": null,
      "outputs": [
        {
          "output_type": "stream",
          "name": "stdout",
          "text": [
            "Moo\n",
            "Baa\n"
          ]
        }
      ]
    },
    {
      "cell_type": "code",
      "source": [
        "# Q17. Create a class Book with attributes title, author, and year_published.\n",
        "# Add a method get_book_info() that returns a formatted string with the book's details.\n",
        "class Book:\n",
        "    def __init__(self, title, author, year_published):\n",
        "        self.title = title\n",
        "        self.author = author\n",
        "        self.year_published = year_published\n",
        "\n",
        "    def get_book_info(self):\n",
        "        return f\"{self.title} by {self.author}, published in {self.year_published}\"\n",
        "\n",
        "b = Book(\"1984\", \"George Orwell\", 1949)\n",
        "print(b.get_book_info())\n"
      ],
      "metadata": {
        "colab": {
          "base_uri": "https://localhost:8080/"
        },
        "id": "zVx-BLxX0vzb",
        "outputId": "f89b0a90-1fbf-4e56-f9e1-d46a990222c5"
      },
      "execution_count": null,
      "outputs": [
        {
          "output_type": "stream",
          "name": "stdout",
          "text": [
            "1984 by George Orwell, published in 1949\n"
          ]
        }
      ]
    },
    {
      "cell_type": "code",
      "source": [
        "# Q18. Create a class House with attributes address and price.\n",
        "# Create a derived class Mansion that adds an attribute number_of_rooms.\n",
        "class House:\n",
        "    def __init__(self, address, price):\n",
        "        self.address = address\n",
        "        self.price = price\n",
        "\n",
        "class Mansion(House):\n",
        "    def __init__(self, address, price, number_of_rooms):\n",
        "        super().__init__(address, price)\n",
        "        self.number_of_rooms = number_of_rooms\n",
        "\n",
        "m = Mansion(\"123 Main St\", 1000000, 10)\n",
        "print(m.address, m.price, m.number_of_rooms)\n"
      ],
      "metadata": {
        "colab": {
          "base_uri": "https://localhost:8080/"
        },
        "id": "fG6EhE9P0v6x",
        "outputId": "d871459a-1ca9-4fd2-f6fd-64bfde63b39c"
      },
      "execution_count": null,
      "outputs": [
        {
          "output_type": "stream",
          "name": "stdout",
          "text": [
            "123 Main St 1000000 10\n"
          ]
        }
      ]
    }
  ]
}